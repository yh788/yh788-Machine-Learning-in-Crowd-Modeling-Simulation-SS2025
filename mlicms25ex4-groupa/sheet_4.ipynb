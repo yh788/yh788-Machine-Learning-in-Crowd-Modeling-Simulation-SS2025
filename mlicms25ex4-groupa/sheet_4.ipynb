{
 "cells": [
  {
   "cell_type": "markdown",
   "id": "ee2d7487",
   "metadata": {},
   "source": [
    "# Sheet 4: Dynamical Systems and Bifurcation Analysis\n",
    "\n",
    "Tasks covered in this notebook:\n",
    "- **Task 1**: Linear systems and phase portraits\n",
    "- **Task 2**: 1D bifurcation analysis (saddle-node bifurcations)\n",
    "- **Task 3**: 2D systems with Andronov-Hopf and cusp bifurcations\n",
    "- **Task 4**: Chaotic dynamics (logistic map and Lorenz attractor)\n",
    "- **Task 5**: SIR epidemic model with hospitalization"
   ]
  },
  {
   "cell_type": "markdown",
   "id": "a70cfa75",
   "metadata": {},
   "source": [
    "---\n",
    "# Task 1: Linear Systems and Phase Portraits\n",
    "\n",
    "Analysis of linear dynamical systems and their phase portraits for different eigenvalue configurations."
   ]
  },
  {
   "cell_type": "code",
   "execution_count": null,
   "id": "fce08d37",
   "metadata": {},
   "outputs": [],
   "source": [
    "# Import necessary libraries for Task 1\n",
    "import numpy as np\n",
    "import matplotlib.pyplot as plt\n",
    "from dynamical_system import Task1\n",
    "from utils import plot_phase_portrait"
   ]
  },
  {
   "cell_type": "markdown",
   "id": "c9bc5e4c",
   "metadata": {},
   "source": [
    "## Part 1.1: Stable and Unstable Nodes and Saddle Point\n",
    "\n",
    "Analysis of systems with real eigenvalues showing different node types and saddle points."
   ]
  },
  {
   "cell_type": "code",
   "execution_count": null,
   "id": "a78684ad",
   "metadata": {},
   "outputs": [],
   "source": [
    "# Parameters and visual setup\n",
    "# Stable and Unstable Nodes and Saddle Point\n",
    "alpha_values = [-3.0, 1.0, -1.0]\n",
    "fig, axs = plt.subplots(1, 3, figsize=(12, 8))\n",
    "\n",
    "for ax, alpha in zip(axs.flatten(), alpha_values):\n",
    "    A = np.array([[alpha, 0.0], [0.0, alpha + 2]])\n",
    "    sys = Task1(par=A, xrange=[[-1, 1, 20], [-1, 1, 20]])\n",
    "\n",
    "    # Eigenvalues\n",
    "    eigvals = np.linalg.eigvals(A)\n",
    "    eigstr = \", \".join(\n",
    "        [\n",
    "            f\"{eig.real:.2f}\" + (f\"+{eig.imag:.2f}i\" if eig.imag != 0 else \"\")\n",
    "            for eig in eigvals\n",
    "        ]\n",
    "    )\n",
    "\n",
    "    title = f\"$\\\\alpha={alpha}$\\nEigenvalues: {eigstr}\"\n",
    "    plot_phase_portrait(sys, ax, title=title)\n",
    "\n",
    "plt.tight_layout()\n",
    "plt.show()"
   ]
  },
  {
   "cell_type": "markdown",
   "id": "40eecd90",
   "metadata": {},
   "source": [
    "## Part 1.2: Stable and Unstable Focus\n",
    "\n",
    "Analysis of systems with complex eigenvalues showing spiral behavior."
   ]
  },
  {
   "cell_type": "code",
   "execution_count": null,
   "id": "06a8af8b",
   "metadata": {},
   "outputs": [],
   "source": [
    "# Parameters and visual setup\n",
    "# Stable and Unstable Focus\n",
    "alpha_values = [-1.0, 0.0, 1.0]\n",
    "fig, axs = plt.subplots(1, 3, figsize=(12, 8))\n",
    "\n",
    "for ax, alpha in zip(axs.flatten(), alpha_values):\n",
    "    A = np.array([[alpha, -2.0], [2.0, alpha]])\n",
    "    sys = Task1(par=A, xrange=[[-1, 1, 20], [-1, 1, 20]])\n",
    "\n",
    "    # Eigenvalues\n",
    "    eigvals = np.linalg.eigvals(A)\n",
    "    eigstr = \", \".join(\n",
    "        [\n",
    "            f\"{eig.real:.2f}\" + (f\"+{eig.imag:.2f}i\" if eig.imag != 0 else \"\")\n",
    "            for eig in eigvals\n",
    "        ]\n",
    "    )\n",
    "\n",
    "    title = f\"$\\\\alpha={alpha}$\\nEigenvalues: {eigstr}\"\n",
    "    plot_phase_portrait(sys, ax, title=title)\n",
    "\n",
    "plt.tight_layout()\n",
    "plt.show()"
   ]
  },
  {
   "cell_type": "markdown",
   "id": "beee88c3",
   "metadata": {},
   "source": [
    "---\n",
    "# Task 2: 1D Bifurcation Analysis\n",
    "\n",
    "Analysis of one-dimensional systems undergoing saddle-node bifurcations."
   ]
  },
  {
   "cell_type": "code",
   "execution_count": null,
   "id": "7eccf9bb",
   "metadata": {},
   "outputs": [],
   "source": [
    "# Import necessary libraries for Task 2\n",
    "from dynamical_system import Task21, Task22\n",
    "from utils import plot_bifurcation_1d"
   ]
  },
  {
   "cell_type": "markdown",
   "id": "058d6451",
   "metadata": {},
   "source": [
    "## Task 2.1: dx/dt = α - x²\n",
    "\n",
    "Our system undergoes a saddle-node bifurcation at α = 0.\n",
    "- For α < 0, there are no fixed points.\n",
    "- For α = 0, there is one fixed point at x = 0.\n",
    "- For α > 0, there are two fixed points at x = ±√α.\n",
    "- The fixed point at x = +√α is stable, and x = -√α is unstable.\n",
    "\n",
    "## Task 2.2: dx/dt = α - 2x² - 3\n",
    "\n",
    "Our system also undergoes a saddle-node bifurcation.\n",
    "We find the bifurcation point by setting x' = 0: α - 2x² - 3 = 0\n",
    "Fixed points: x = ±√((α - 3)/2).\n",
    "Real solutions for x exist only if α - 3 ≥ 0, so the bifurcation occurs at α = 3."
   ]
  },
  {
   "cell_type": "code",
   "execution_count": null,
   "id": "e2f4b1d2",
   "metadata": {},
   "outputs": [],
   "source": [
    "# Create bifurcation plots\n",
    "fig, (ax1, ax2) = plt.subplots(1, 2, figsize=(14, 6))\n",
    "\n",
    "# Plot for Task 2.1\n",
    "par_range_21 = np.linspace(-2, 10, 200)\n",
    "plot_bifurcation_1d(Task21, par_range_21, [-5, 5, 100], ax1)\n",
    "ax1.set_title(\"Bifurcation Diagram for $dx/dt = \\\\alpha - x^2$\")\n",
    "\n",
    "# Plot for Task 2.2\n",
    "par_range_22 = np.linspace(1, 15, 200)\n",
    "plot_bifurcation_1d(Task22, par_range_22, [-5, 5, 100], ax2)\n",
    "ax2.set_title(\"Bifurcation Diagram for $dx/dt = \\\\alpha - 2x^2 - 3$\")\n",
    "\n",
    "plt.tight_layout()\n",
    "plt.show()"
   ]
  },
  {
   "cell_type": "markdown",
   "id": "c709e323",
   "metadata": {},
   "source": [
    "---\n",
    "# Task 3: 2D Dynamical Systems Analysis\n",
    "\n",
    "Analysis of two-dimensional systems including Andronov-Hopf and cusp bifurcations."
   ]
  },
  {
   "cell_type": "code",
   "execution_count": null,
   "id": "559e051b",
   "metadata": {},
   "outputs": [],
   "source": [
    "# Import necessary libraries for Task 3\n",
    "from dynamical_system import Task3\n",
    "from utils import (\n",
    "    phase_portrait_andronov_hopf,\n",
    "    plot_trajectory,\n",
    "    plot_cusp_bifurcation,\n",
    "    plot_cusp_projection,\n",
    ")"
   ]
  },
  {
   "cell_type": "code",
   "execution_count": null,
   "id": "d68c7fa8",
   "metadata": {},
   "outputs": [],
   "source": [
    "# Common grid setup for Task 3\n",
    "xrange = [[-3, 3, 20], [-3, 3, 20]]"
   ]
  },
  {
   "cell_type": "markdown",
   "id": "ade3da9a",
   "metadata": {},
   "source": [
    "## Part 3.1.1: Phase Portraits for Different α Values\n",
    "\n",
    "Generate phase portraits for α = -1, 0, and 1 to observe the Andronov-Hopf bifurcation behavior."
   ]
  },
  {
   "cell_type": "code",
   "execution_count": null,
   "id": "7e94b959",
   "metadata": {},
   "outputs": [],
   "source": [
    "# Part 3.1.1: Phase portraits for three α values\n",
    "for alpha in [-1, 0, 1]:\n",
    "    system = Task3(par=alpha, xrange=xrange)\n",
    "    ax = phase_portrait_andronov_hopf(system)\n",
    "    plt.show()"
   ]
  },
  {
   "cell_type": "markdown",
   "id": "4be78ee7",
   "metadata": {},
   "source": [
    "## Part 3.1.2: Specific Trajectories for α = 1\n",
    "\n",
    "Analyze specific trajectories for α = 1 with initial conditions (2.0, 0.0) and (0.5, 0.0)."
   ]
  },
  {
   "cell_type": "code",
   "execution_count": null,
   "id": "0ad69e46",
   "metadata": {},
   "outputs": [],
   "source": [
    "# Part 3.1.2: Specific trajectories for α = 1\n",
    "alpha = 1\n",
    "system = Task3(par=alpha, xrange=xrange)\n",
    "ax = phase_portrait_andronov_hopf(system)\n",
    "\n",
    "t_span = [0.0, 10.0]\n",
    "dt = 0.001\n",
    "\n",
    "for x0 in [(2.0, 0.0), (0.5, 0.0)]:\n",
    "    plot_trajectory(system, x0)\n",
    "\n",
    "ax.legend()\n",
    "plt.show()"
   ]
  },
  {
   "cell_type": "markdown",
   "id": "a7fbf0e6",
   "metadata": {},
   "source": [
    "## Part 3.2: Cusp Bifurcation Analysis\n",
    "\n",
    "Analyze the cusp bifurcation behavior of the system."
   ]
  },
  {
   "cell_type": "code",
   "execution_count": null,
   "id": "3e96f62e",
   "metadata": {},
   "outputs": [],
   "source": [
    "# Part 3.2: Cusp bifurcation\n",
    "x_range = [-2.0, 2.0]\n",
    "alpha2_range = [-2.0, 2.0]\n",
    "ax = plot_cusp_bifurcation(x_range, alpha2_range)\n",
    "plt.show()"
   ]
  },
  {
   "cell_type": "markdown",
   "id": "5955db51",
   "metadata": {},
   "source": [
    "### Part 3.2.1: Cusp Projection\n",
    "\n",
    "Generate the cusp projection visualization to visualize the shape of the bifurcation in the parameter space."
   ]
  },
  {
   "cell_type": "code",
   "execution_count": null,
   "id": "04fe9ac0",
   "metadata": {},
   "outputs": [],
   "source": [
    "# Part 3.2.1: Cusp projection\n",
    "plot_cusp_projection()\n",
    "plt.show()"
   ]
  },
  {
   "cell_type": "markdown",
   "id": "4e454fa1",
   "metadata": {},
   "source": [
    "---\n",
    "# Task 4: Chaotic Dynamics\n",
    "\n",
    "Analysis of chaotic behavior in discrete and continuous dynamical systems."
   ]
  },
  {
   "cell_type": "code",
   "execution_count": null,
   "id": "2450d3ef",
   "metadata": {},
   "outputs": [],
   "source": [
    "# Import necessary libraries for Task 4\n",
    "import utils\n",
    "from dynamical_system import Task42"
   ]
  },
  {
   "cell_type": "markdown",
   "id": "190ea4f0",
   "metadata": {},
   "source": [
    "## Part 4.1: Logistic Map\n",
    "\n",
    "For the discrete map $x_{n+1} = rx_n(1 - x_n)$:\n",
    "1. Vary $r$ from 0 to 2. Which bifurcations occur? At which numerical values do you find steady states of the system?"
   ]
  },
  {
   "cell_type": "code",
   "execution_count": null,
   "id": "b6932913",
   "metadata": {},
   "outputs": [],
   "source": [
    "# Vary r from 0 to 2\n",
    "utils.plot_logistic_map_bifurcation(\n",
    "    r_min=0.0, r_max=2.0, n_itr=1000, n_plot=1000, n_r=1000\n",
    ")"
   ]
  },
  {
   "cell_type": "markdown",
   "source": [
    "2. Now vary r from 2 to 4. What happens? Describe the behavior (no formal proofs or exact statements\n",
    "necessary)."
   ],
   "metadata": {
    "collapsed": false
   }
  },
  {
   "cell_type": "code",
   "execution_count": null,
   "id": "2337186c",
   "metadata": {},
   "outputs": [],
   "source": [
    "# Vary r from 2 to 4\n",
    "utils.plot_logistic_map_bifurcation(\n",
    "    r_min=2.0, r_max=4.0, n_itr=1000, n_plot=1000, n_r=1000\n",
    ")"
   ]
  },
  {
   "cell_type": "code",
   "execution_count": null,
   "id": "5aecbb62",
   "metadata": {},
   "outputs": [],
   "source": [
    "# The overall bifurcation diagram, where r is between 0 and 4, x is between 0 and 1\n",
    "utils.plot_logistic_map_bifurcation(\n",
    "    r_min=0.0, r_max=4.0, n_itr=1000, n_plot=1000, n_r=1000\n",
    ")"
   ]
  },
  {
   "cell_type": "markdown",
   "id": "bcddd203",
   "metadata": {},
   "source": [
    "## Part 4.2: Lorenz Attractor\n",
    "\n",
    "Analysis of the famous Lorenz system showing chaotic behavior and sensitive dependence on initial conditions."
   ]
  },
  {
   "cell_type": "code",
   "execution_count": null,
   "id": "f65c0475",
   "metadata": {},
   "outputs": [],
   "source": [
    "# Plot two trajectories with slightly different initial conditions\n",
    "sigma = 10.0\n",
    "beta = 8.0 / 3.0\n",
    "rho = 28.0\n",
    "\n",
    "x_range_lorenz = [[-30, 30, 30], [-30, 30, 30], [0, 50, 30]]\n",
    "lorenz_system_instance = Task42(par=[sigma, beta, rho], xrange=x_range_lorenz)\n",
    "\n",
    "time_points, traj_1 = utils.plot_lorenz(\n",
    "    system=lorenz_system_instance, x_0=[10.0, 10.0, 10.0], t_end=1000\n",
    ")\n",
    "_, traj_2 = utils.plot_lorenz(\n",
    "    system=lorenz_system_instance, x_0=[10.0 + 1e-8, 10.0, 10.0], t_end=1000\n",
    ")"
   ]
  },
  {
   "cell_type": "markdown",
   "id": "9339a7b6",
   "metadata": {},
   "source": [
    "### Sensitivity Analysis\n",
    "\n",
    "Examine how small differences in initial conditions lead to exponential divergence of trajectories."
   ]
  },
  {
   "cell_type": "code",
   "execution_count": null,
   "id": "60550df4",
   "metadata": {},
   "outputs": [],
   "source": [
    "# Plot squared distance between two trajectories\n",
    "distance_sq = np.sum((traj_1 - traj_2) ** 2, axis=0)\n",
    "plt.figure(figsize=(10, 6))\n",
    "plt.plot(time_points, distance_sq)\n",
    "plt.title(\"Plot of Squared Distance\")\n",
    "plt.ylabel(\"Squared Distance\")\n",
    "plt.xlabel(\"Time\")\n",
    "plt.grid(True)\n",
    "\n",
    "# Detailed plot with logarithm on Y-axis\n",
    "plt.figure(figsize=(10, 6))\n",
    "plt.plot(time_points, distance_sq)\n",
    "plt.yscale(\"log\")\n",
    "plt.xlim(0, 40)\n",
    "plt.title(\"Plot of Squared Distance in logarithm\")\n",
    "plt.ylabel(\"Squared Distance\")\n",
    "plt.xlabel(\"Time\")\n",
    "plt.grid(True)\n",
    "\n",
    "plt.show()"
   ]
  },
  {
   "cell_type": "markdown",
   "id": "6924fac1",
   "metadata": {},
   "source": [
    "### Non-chaotic Case\n",
    "\n",
    "Compare with a smaller ρ value to see non-chaotic behavior."
   ]
  },
  {
   "cell_type": "code",
   "execution_count": null,
   "id": "fd41b948",
   "metadata": {},
   "outputs": [],
   "source": [
    "# Plot with smaller rho (non-chaotic regime)\n",
    "sigma = 10.0\n",
    "beta = 8.0 / 3.0\n",
    "rho = 0.5\n",
    "\n",
    "x_range_lorenz = [[-30, 30, 30], [-30, 30, 30], [0, 50, 30]]\n",
    "lorenz_system_instance = Task42(par=[sigma, beta, rho], xrange=x_range_lorenz)\n",
    "\n",
    "time_points, traj_1 = utils.plot_lorenz(\n",
    "    system=lorenz_system_instance, x_0=[10.0, 10.0, 10.0], t_end=1000\n",
    ")\n",
    "_, traj_2 = utils.plot_lorenz(\n",
    "    system=lorenz_system_instance, x_0=[10.0 + 1e-8, 10.0, 10.0], t_end=1000\n",
    ")"
   ]
  },
  {
   "cell_type": "markdown",
   "id": "0321758f",
   "metadata": {},
   "source": [
    "---\n",
    "# Task 5: SIR Epidemic Model with Hospitalization\n",
    "\n",
    "Analysis of a continuous SIR-type epidemic model with hospitalization capacity constraints and natural/disease-induced death rates."
   ]
  },
  {
   "cell_type": "code",
   "execution_count": null,
   "id": "425a3ee8",
   "metadata": {},
   "outputs": [],
   "source": [
    "# Import necessary libraries for Task 5\n",
    "from mpl_toolkits.mplot3d import Axes3D\n",
    "from scipy.integrate import solve_ivp\n",
    "from sir_model import *"
   ]
  },
  {
   "cell_type": "markdown",
   "id": "af43b3ea",
   "metadata": {},
   "source": [
    "## Model Parameters and Setup\n",
    "\n",
    "Define the parameters for the SIR model with hospitalization constraints."
   ]
  },
  {
   "cell_type": "code",
   "execution_count": null,
   "id": "822223fe",
   "metadata": {},
   "outputs": [],
   "source": [
    "# Simulation parameters\n",
    "random_state = 12345\n",
    "t_0 = 0\n",
    "t_end = 1000\n",
    "NT = t_end - t_0\n",
    "# High precision tolerances for qualitatively correct solutions\n",
    "rtol = 1e-8\n",
    "atol = 1e-8\n",
    "\n",
    "# SIR model parameters\n",
    "beta = 11.5  # Average number of adequate contacts per unit time with infectious individuals\n",
    "A = 20  # Recruitment rate (birth rate) of susceptible population\n",
    "d = 0.1  # Per capita natural death rate\n",
    "nu = 1  # Per capita disease-induced death rate\n",
    "b = 0.01  # Number of beds per 10,000 people (try values: 0.01, 0.020, ..., 0.022, ..., 0.03)\n",
    "mu0 = 10  # Minimum recovery rate\n",
    "mu1 = 10.45  # Maximum recovery rate\n",
    "\n",
    "# Display model information\n",
    "print(f\"Reproduction number R0 = {R0(beta, d, nu, mu1):.4f}\")\n",
    "print(f\"Globally asymptotically stable if beta <= d + nu + mu0: {beta <= d + nu + mu0}\")\n",
    "print(f\"Condition: {beta:.1f} <= {d + nu + mu0:.1f} is {beta <= d + nu + mu0}\")"
   ]
  },
  {
   "cell_type": "markdown",
   "id": "deb8a2de",
   "metadata": {},
   "source": [
    "## Single Simulation with Base Parameters\n",
    "\n",
    "Run a simulation with the base parameter set and visualize the results."
   ]
  },
  {
   "cell_type": "code",
   "execution_count": null,
   "id": "f293392b",
   "metadata": {},
   "outputs": [],
   "source": [
    "# Initialize random number generator and set initial conditions\n",
    "rng = np.random.default_rng(random_state)\n",
    "SIM0 = rng.uniform(low=(190, 0, 1), high=(199, 0.1, 8), size=(3,))\n",
    "\n",
    "print(f\"Initial conditions: S(0)={SIM0[0]:.2f}, I(0)={SIM0[1]:.3f}, R(0)={SIM0[2]:.2f}\")\n",
    "\n",
    "# Solve the differential equation system\n",
    "time = np.linspace(t_0, t_end, NT)\n",
    "sol = solve_ivp(\n",
    "    model,\n",
    "    t_span=[time[0], time[-1]],\n",
    "    y0=SIM0,\n",
    "    t_eval=time,\n",
    "    args=(mu0, mu1, beta, A, d, nu, b),\n",
    "    method=\"LSODA\",\n",
    "    rtol=rtol,\n",
    "    atol=atol,\n",
    ")\n",
    "\n",
    "# Plot the results\n",
    "plot_continuous_SIR(sol, mu0, mu1, beta, A, d, nu, b)"
   ]
  },
  {
   "cell_type": "markdown",
   "id": "bcef23d6",
   "metadata": {},
   "source": [
    "## Parameter Sensitivity Analysis\n",
    "\n",
    "Analyze how changes in the bed availability parameter `b` affect the system dynamics."
   ]
  },
  {
   "cell_type": "code",
   "execution_count": null,
   "id": "40d7c767",
   "metadata": {},
   "outputs": [],
   "source": [
    "# Analyze trajectories for different values of bed availability parameter b\n",
    "b_values = np.linspace(0.01, 0.03, 21)\n",
    "\n",
    "print(f\"Analyzing {len(b_values)} different bed availability values...\")\n",
    "print(f\"b values range from {b_values[0]:.3f} to {b_values[-1]:.3f}\")\n",
    "\n",
    "for i, b_val in enumerate(b_values):\n",
    "    print(f\"Processing b = {b_val:.3f} ({i + 1}/{len(b_values)})\")\n",
    "    plot_trajectories(t_0, mu0, mu1, beta, A, d, nu, round(b_val, 3), rtol, atol)"
   ]
  },
  {
   "cell_type": "markdown",
   "source": [
    "## Bonus 1: Analysis of Another Type of Bifurcation\n",
    "\n",
    "Analyze the expected pitchfork bifurcation."
   ],
   "metadata": {
    "collapsed": false
   }
  },
  {
   "cell_type": "code",
   "execution_count": null,
   "outputs": [],
   "source": [
    "##BONUS\n",
    "\n",
    "# parameters\n",
    "random_state = 12345\n",
    "t_0 = 0\n",
    "t_end = 1000\n",
    "NT = t_end-t_0\n",
    "# if these error tolerances are set too high, the solution will be qualitatively (!) wrong\n",
    "rtol=1e-8\n",
    "atol=1e-8\n",
    "\n",
    "# SIR model parameters\n",
    "beta=11.6\n",
    "A=20\n",
    "d=0.1\n",
    "nu=1.0\n",
    "b=0.01 # try to set this to 0.01, 0.020, ..., 0.022, ..., 0.03\n",
    "mu0 = 10   # minimum recovery rate\n",
    "mu1 = 10.5  # maximum recovery rate\n",
    "\n",
    "# simulation\n",
    "rng = np.random.default_rng(random_state)\n",
    "\n",
    "SIMS = [\n",
    "    (195.3, 0.052, 4.4),\n",
    "    (195.7, 0.03, 3.92),\n",
    "    (193, 0.08, 6.21)\n",
    "]\n",
    "\n",
    "time = np.linspace(t_0,t_end,NT)\n",
    "sol = solve_ivp(model, t_span=[time[0],time[-1]], y0=SIM0, t_eval=time, args=(mu0, mu1, beta, A, d, nu, b), method='LSODA', rtol=rtol, atol=atol)\n",
    "\n",
    "for i in np.linspace(0.01, 0.09, 21):\n",
    "    plot_trajectories(t_0, mu0, mu1, beta, A, d, nu, round(i, 3), rtol, atol)"
   ],
   "metadata": {
    "collapsed": false
   }
  },
  {
   "cell_type": "markdown",
   "source": [
    "## Bonus 2: Transcritical Bifurcation at the Epidemic Threshold\n",
    "A numerical investigation of the system's stability as the basic reproduction number R₀ crosses unity."
   ],
   "metadata": {
    "collapsed": false
   }
  },
  {
   "cell_type": "code",
   "execution_count": null,
   "outputs": [],
   "source": [
    "import numpy as np, matplotlib.pyplot as plt\n",
    "from scipy.integrate import solve_ivp\n",
    "from sir_model import model, R0, mu\n",
    "\n",
    "# Fixed parameters from the worksheet\n",
    "A, d, nu, mu0, mu1, b = 20, 0.1, 1, 10, 10.45, 0.01\n",
    "t_end, NT = 500, 5000\n",
    "time_grid = np.linspace(0, t_end, NT)\n",
    "# A single, identical initial condition is used for all simulation runs to ensure comparability.\n",
    "x0 = np.array([195.0, 0.05, 5.0])        # identical start for all runs\n",
    "\n",
    "def simulate(beta :float)-> np.ndarray:\n",
    "    \"\"\"    Simulate the SIR model for a given beta value.\n",
    "    Args:\n",
    "        beta (float): Contact rate parameter.\n",
    "    Returns:\n",
    "        np.ndarray: Time points and corresponding state variables.\n",
    "    \"\"\"\n",
    "    # Use SciPy's robust ODE solver with strict tolerances for accuracy.\n",
    "    sol = solve_ivp(model, [0, t_end], x0, t_eval=time_grid,\n",
    "                    args=(mu0, mu1, beta, A, d, nu, b), rtol=1e-8, atol=1e-8)\n",
    "    return sol.t, sol.y\n",
    "\n",
    "# Define specific beta values to demonstrate behavior before, at, and after the critical point.\n",
    "betas = [9.0, 11.55, 13.0]               # beta < betac , beta = betac , beta > betac\n",
    "colors = ['tab:blue', 'tab:gray', 'tab:red']\n",
    "# Loop through the specified beta values\n",
    "plt.figure(figsize=(12,4))\n",
    "for beta,c in zip(betas, colors):\n",
    "    t, y = simulate(beta)\n",
    "    plt.plot(t, y[1], c, label=f'beta={beta:.2f},  R₀={R0(beta, d, nu, mu1):.2f}')\n",
    "plt.xlabel('time'), plt.ylabel('I(t)'), plt.title('Infective compartment over time')\n",
    "plt.legend(), plt.grid();\n",
    "plt.savefig('transcritical_bifurcation.png', dpi=300, bbox_inches='tight')\n",
    "plt.show()\n",
    "\n",
    "beta_values = np.linspace(8, 15, 60)\n",
    "I_star = []\n",
    "\n",
    "for beta in beta_values:\n",
    "    t,y = simulate(beta)\n",
    "    I_star.append(y[1,-1])               # last value as steady-state proxy\n",
    "\n",
    "plt.figure(figsize=(6,4))\n",
    "plt.plot(beta_values, I_star, 'k-')\n",
    "plt.axvline(beta_c:=11.55, color='r', ls='--', label='betac')\n",
    "plt.xlabel('beta'), plt.ylabel('steady state I*'),\n",
    "plt.title('Transcritical bifurcation diagram'), plt.legend(); plt.grid();\n",
    "plt.savefig('bifurcation_diagram_beta.png', dpi=300, bbox_inches='tight')\n",
    "plt.show()"
   ],
   "metadata": {
    "collapsed": false
   }
  },
  {
   "cell_type": "code",
   "execution_count": null,
   "outputs": [],
   "source": [],
   "metadata": {
    "collapsed": false
   }
  },
  {
   "cell_type": "markdown",
   "id": "7afbce6d",
   "metadata": {},
   "source": []
  }
 ],
 "metadata": {
  "kernelspec": {
   "display_name": "mlcs",
   "language": "python",
   "name": "python3"
  },
  "language_info": {
   "codemirror_mode": {
    "name": "ipython",
    "version": 3
   },
   "file_extension": ".py",
   "mimetype": "text/x-python",
   "name": "python",
   "nbconvert_exporter": "python",
   "pygments_lexer": "ipython3",
   "version": "3.11.13"
  }
 },
 "nbformat": 4,
 "nbformat_minor": 5
}
